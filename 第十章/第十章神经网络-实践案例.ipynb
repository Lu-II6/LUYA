{
 "cells": [
  {
   "cell_type": "code",
   "execution_count": 17,
   "id": "4dd2bcc4-373a-447b-94ac-3a87e8cb3977",
   "metadata": {},
   "outputs": [],
   "source": [
    "import torch\n",
    "import torch.nn as nn\n",
    "import torch.optim as optim\n",
    "from torchvision import datasets, transforms\n",
    "from torch.utils.data import DataLoader"
   ]
  },
  {
   "cell_type": "code",
   "execution_count": 18,
   "id": "1c878149-b4b8-494f-a568-f80f7ac51d21",
   "metadata": {},
   "outputs": [],
   "source": [
    "transform = transforms.Compose([transforms.ToTensor(), transforms.Normalize((0.5,), (0.5,))])\n",
    "train_data = datasets.MNIST(root='./data', train=True, download=True, transform=transform)\n",
    "test_data = datasets.MNIST(root='./data', train=False, download=True, transform=transform)\n",
    "train_loader = DataLoader(train_data, batch_size=64, shuffle=True)\n",
    "test_loader = DataLoader(test_data, batch_size=64, shuffle=False)"
   ]
  },
  {
   "cell_type": "code",
   "execution_count": 19,
   "id": "00b598ea-cc6c-4ccf-90af-934149fda431",
   "metadata": {},
   "outputs": [
    {
     "name": "stdout",
     "output_type": "stream",
     "text": [
      "Epoch 1/5, Loss: 0.3861\n",
      "Epoch 2/5, Loss: 0.1989\n",
      "Epoch 3/5, Loss: 0.1444\n",
      "Epoch 4/5, Loss: 0.1139\n",
      "Epoch 5/5, Loss: 0.0973\n",
      "Accuracy on test set: 96.73%\n"
     ]
    }
   ],
   "source": [
    "class SimpleNN(nn.Module):\n",
    "    def __init__(self):\n",
    "        super(SimpleNN, self).__init__()\n",
    "        # 定义网络层：输入层到隐藏层，隐藏层到输出层\n",
    "        self.fc1 = nn.Linear(28 * 28, 128)  # 输入层到隐藏层\n",
    "        self.fc2 = nn.Linear(128, 10)     # 隐藏层到输出层\n",
    "    \n",
    "    def forward(self, x):\n",
    "        x = x.view(-1, 28 * 28)             # 展平输入\n",
    "        x = torch.relu(self.fc1(x))       # 隐藏层+ReLU激活\n",
    "        x = self.fc2(x)                   # 输出层（未加softmax）\n",
    "        return x\n",
    "\n",
    "# 实例化模型\n",
    "model = SimpleNN()\n",
    "criterion = nn.CrossEntropyLoss()        # 交叉熵损失\n",
    "optimizer = optim.Adam(model.parameters(), lr=0.001)  # Adam优化器\n",
    "\n",
    "num_epochs = 5\n",
    "for epoch in range(num_epochs):\n",
    "    running_loss = 0.0\n",
    "    # 训练循环（修复了此处缩进）\n",
    "    for images, labels in train_loader:\n",
    "        optimizer.zero_grad()            # 梯度清零\n",
    "        outputs = model(images)          # 前向传播\n",
    "        loss = criterion(outputs, labels)# 计算损失\n",
    "        loss.backward()                  # 反向传播\n",
    "        optimizer.step()                 # 更新参数\n",
    "        running_loss += loss.item()\n",
    "    print(f\"Epoch {epoch+1}/{num_epochs}, Loss: {running_loss/len(train_loader):.4f}\")\n",
    "\n",
    "# 测试循环\n",
    "correct = 0\n",
    "total = 0\n",
    "with torch.no_grad():\n",
    "    for images, labels in test_loader:\n",
    "        outputs = model(images)\n",
    "        _, predicted = torch.max(outputs, 1)  # 获取预测类别\n",
    "        total += labels.size(0)\n",
    "        correct += (predicted == labels).sum().item()\n",
    "\n",
    "accuracy = 100 * correct / total  # 移至循环外计算最终准确率\n",
    "print(f\"Accuracy on test set: {accuracy:.2f}%\")"
   ]
  },
  {
   "cell_type": "code",
   "execution_count": null,
   "id": "57bbca2f-7f10-4ef9-bbfb-a24cec9f5349",
   "metadata": {},
   "outputs": [],
   "source": []
  }
 ],
 "metadata": {
  "kernelspec": {
   "display_name": "Python 3 (ipykernel)",
   "language": "python",
   "name": "python3"
  },
  "language_info": {
   "codemirror_mode": {
    "name": "ipython",
    "version": 3
   },
   "file_extension": ".py",
   "mimetype": "text/x-python",
   "name": "python",
   "nbconvert_exporter": "python",
   "pygments_lexer": "ipython3",
   "version": "3.12.9"
  }
 },
 "nbformat": 4,
 "nbformat_minor": 5
}

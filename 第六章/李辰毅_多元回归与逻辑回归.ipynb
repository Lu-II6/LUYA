{
 "cells": [
  {
   "cell_type": "code",
   "execution_count": 2,
   "id": "388197f8-776e-4135-b4a7-5ab1dbbeef38",
   "metadata": {},
   "outputs": [],
   "source": [
    "import numpy as np\n",
    "import matplotlib.pyplot as plt\n",
    "import pandas as pd\n",
    "import warnings\n",
    "warnings.filterwarnings('ignore')\n",
    "import seaborn as sns\n",
    "import scipy.stats as stats\n",
    "#数据预处理：特征提取，归一化，划分数据集\n",
    "from sklearn.model_selection import train_test_split\n",
    "from sklearn.model_selection import cross_val_score      #交叉验证k-fold\n",
    "\n",
    "from sklearn.linear_model import LogisticRegression\n",
    "from sklearn.preprocessing import StandardScaler\n",
    "\n",
    "from sklearn.model_selection import GridSearchCV,RandomizedSearchCV,learning_curve      #超参数搜索\n",
    "from sklearn.metrics import classification_report,confusion_matrix"
   ]
  },
  {
   "cell_type": "code",
   "execution_count": 10,
   "id": "bb2ccf29-eb8d-4850-950e-6fc739b0aa0a",
   "metadata": {},
   "outputs": [],
   "source": [
    "data = pd.read_excel(r\"C:\\Users\\11389\\Desktop\\新建 Microsoft Excel 工作表.xlsx\")"
   ]
  },
  {
   "cell_type": "code",
   "execution_count": 11,
   "id": "7a6e7ffc-ecc5-4325-8499-c38249c6150a",
   "metadata": {},
   "outputs": [
    {
     "data": {
      "text/plain": [
       "occ\n",
       "Prof        112\n",
       "Craft        84\n",
       "BlueCol      69\n",
       "WhiteCol     41\n",
       "Menial       31\n",
       "Name: count, dtype: int64"
      ]
     },
     "execution_count": 11,
     "metadata": {},
     "output_type": "execute_result"
    }
   ],
   "source": [
    "data['occ'].value_counts()"
   ]
  },
  {
   "cell_type": "code",
   "execution_count": 12,
   "id": "ce82f5c3-f687-4b6e-815b-453f6f0f8de2",
   "metadata": {},
   "outputs": [],
   "source": [
    "x = data.drop(['occ'],axis=1)\n",
    "y = data['occ']"
   ]
  },
  {
   "cell_type": "code",
   "execution_count": 13,
   "id": "f720636c-895a-4f13-a0da-c31e2a86eb82",
   "metadata": {},
   "outputs": [],
   "source": [
    "#分割训练集测试集\n",
    "x_train, x_test, y_train, y_test = train_test_split(x, y, train_size=0.8, random_state=66)\n",
    "# 标准化特征\n",
    "scaler = StandardScaler()\n",
    "x_train = scaler.fit_transform(x_train)\n",
    "x_test = scaler.transform(x_test)"
   ]
  },
  {
   "cell_type": "markdown",
   "id": "b3c32e37-6bf1-4f46-8b14-79dd09d45dec",
   "metadata": {},
   "source": [
    "#### 训练"
   ]
  },
  {
   "cell_type": "code",
   "execution_count": 16,
   "id": "f41c4b7e-1bb6-4ac2-9f27-25ed56043baa",
   "metadata": {},
   "outputs": [
    {
     "name": "stdout",
     "output_type": "stream",
     "text": [
      "train_score =  0.4944237918215613\n",
      "test_score =  0.4264705882352941\n"
     ]
    }
   ],
   "source": [
    "clf = LogisticRegression()\n",
    "clf.fit(x_train,y_train)\n",
    "y_pred = clf.predict(x_test)  #0,1分类\n",
    "y_pred_prob = clf.predict_proba(x_test)\n",
    "print(\"train_score = \",clf.score(x_train,y_train))\n",
    "print('test_score = ',clf.score(x_test,y_test))"
   ]
  },
  {
   "cell_type": "markdown",
   "id": "14bd7077-ad22-4057-b414-b30f0c5c4be8",
   "metadata": {},
   "source": [
    "#### 可视化评估"
   ]
  },
  {
   "cell_type": "code",
   "execution_count": 19,
   "id": "a2afb88e-0aae-4fa0-9c41-9536ff010dc4",
   "metadata": {},
   "outputs": [
    {
     "data": {
      "image/png": "[encoded data removed]",
      "text/plain": [
       "<Figure size 640x480 with 2 Axes>"
      ]
     },
     "metadata": {},
     "output_type": "display_data"
    }
   ],
   "source": [
    "cm = confusion_matrix(y_test, y_pred)\n",
    "# 可视化混淆矩阵\n",
    "sns.heatmap(cm, annot=True, fmt='d', cmap='Blues')\n",
    "plt.title('Confusion Matrix for Multi-Class Classification')\n",
    "plt.xlabel('Predicted Label')\n",
    "plt.ylabel('True Label')\n",
    "plt.show()"
   ]
  },
  {
   "cell_type": "code",
   "execution_count": 20,
   "id": "7649d999-31e2-418b-ab7b-39e55bfe1c25",
   "metadata": {},
   "outputs": [
    {
     "name": "stdout",
     "output_type": "stream",
     "text": [
      "              precision    recall  f1-score   support\n",
      "\n",
      "      setosa       1.00      1.00      1.00         9\n",
      "  versicolor       1.00      1.00      1.00        10\n",
      "   virginica       1.00      1.00      1.00        11\n",
      "\n",
      "    accuracy                           1.00        30\n",
      "   macro avg       1.00      1.00      1.00        30\n",
      "weighted avg       1.00      1.00      1.00        30\n",
      "\n"
     ]
    }
   ],
   "source": [
    "print(classification_report(y_test, y_pred, target_names=iris.target_names))"
   ]
  },
  {
   "cell_type": "markdown",
   "id": "d665fba4-37b3-4e97-b9ef-e90b2043594d",
   "metadata": {},
   "source": [
    "#### 导出"
   ]
  },
  {
   "cell_type": "code",
   "execution_count": 36,
   "id": "b8aa4f0e-02d6-4a9d-81cc-cd5ceff1bbd0",
   "metadata": {},
   "outputs": [],
   "source": [
    "pred_df = pd.concat([pd.DataFrame(y_test),pd.DataFrame(y_pred), pd.DataFrame(y_pred_prob)], axis=1)\n",
    "pred_df.to_excel(r\"C:\\Users\\11389\\Desktop\\pred_iris.xlsx\")"
   ]
  },
  {
   "cell_type": "markdown",
   "id": "6a19f7e3-1d82-4fdd-be41-225f076587ea",
   "metadata": {},
   "source": [
    "## **回归**"
   ]
  },
  {
   "cell_type": "code",
   "execution_count": 19,
   "id": "0a817590-dcbf-4b64-8f39-851df8a2a943",
   "metadata": {},
   "outputs": [],
   "source": [
    "import numpy as np\n",
    "import matplotlib.pyplot as plt\n",
    "import pandas as pd\n",
    "import warnings\n",
    "warnings.filterwarnings('ignore')\n",
    "import seaborn as sns\n",
    "import scipy.stats as stats\n",
    "#数据预处理：特征提取，归一化，划分数据集\n",
    "from sklearn.model_selection import train_test_split\n",
    "from sklearn.model_selection import cross_val_score      #交叉验证k-fold\n",
    "\n",
    "from sklearn.linear_model import LinearRegression\n",
    "from sklearn.preprocessing import StandardScaler\n",
    "from sklearn.metrics import mean_squared_error,r2_score,mean_absolute_error"
   ]
  },
  {
   "cell_type": "code",
   "execution_count": 20,
   "id": "74a3d32f-e1da-4026-a0f0-c72f615fbc11",
   "metadata": {},
   "outputs": [],
   "source": [
    "data = pd.read_csv(r\"C:\\Users\\11389\\Desktop\\archive (1)\\house_price_regression_dataset.csv\")"
   ]
  },
  {
   "cell_type": "code",
   "execution_count": 21,
   "id": "c5aaf56d-0f38-4ec1-b1e0-f62a8a9bf503",
   "metadata": {},
   "outputs": [
    {
     "data": {
      "text/html": [
       "<div>\n",
       "<style scoped>\n",
       "    .dataframe tbody tr th:only-of-type {\n",
       "        vertical-align: middle;\n",
       "    }\n",
       "\n",
       "    .dataframe tbody tr th {\n",
       "        vertical-align: top;\n",
       "    }\n",
       "\n",
       "    .dataframe thead th {\n",
       "        text-align: right;\n",
       "    }\n",
       "</style>\n",
       "<table border=\"1\" class=\"dataframe\">\n",
       "  <thead>\n",
       "    <tr style=\"text-align: right;\">\n",
       "      <th></th>\n",
       "      <th>Square_Footage</th>\n",
       "      <th>Num_Bedrooms</th>\n",
       "      <th>Num_Bathrooms</th>\n",
       "      <th>Year_Built</th>\n",
       "      <th>Lot_Size</th>\n",
       "      <th>Garage_Size</th>\n",
       "      <th>Neighborhood_Quality</th>\n",
       "      <th>House_Price</th>\n",
       "    </tr>\n",
       "  </thead>\n",
       "  <tbody>\n",
       "    <tr>\n",
       "      <th>0</th>\n",
       "      <td>1360</td>\n",
       "      <td>2</td>\n",
       "      <td>1</td>\n",
       "      <td>1981</td>\n",
       "      <td>0.599637</td>\n",
       "      <td>0</td>\n",
       "      <td>5</td>\n",
       "      <td>2.623829e+05</td>\n",
       "    </tr>\n",
       "    <tr>\n",
       "      <th>1</th>\n",
       "      <td>4272</td>\n",
       "      <td>3</td>\n",
       "      <td>3</td>\n",
       "      <td>2016</td>\n",
       "      <td>4.753014</td>\n",
       "      <td>1</td>\n",
       "      <td>6</td>\n",
       "      <td>9.852609e+05</td>\n",
       "    </tr>\n",
       "    <tr>\n",
       "      <th>2</th>\n",
       "      <td>3592</td>\n",
       "      <td>1</td>\n",
       "      <td>2</td>\n",
       "      <td>2016</td>\n",
       "      <td>3.634823</td>\n",
       "      <td>0</td>\n",
       "      <td>9</td>\n",
       "      <td>7.779774e+05</td>\n",
       "    </tr>\n",
       "    <tr>\n",
       "      <th>3</th>\n",
       "      <td>966</td>\n",
       "      <td>1</td>\n",
       "      <td>2</td>\n",
       "      <td>1977</td>\n",
       "      <td>2.730667</td>\n",
       "      <td>1</td>\n",
       "      <td>8</td>\n",
       "      <td>2.296989e+05</td>\n",
       "    </tr>\n",
       "    <tr>\n",
       "      <th>4</th>\n",
       "      <td>4926</td>\n",
       "      <td>2</td>\n",
       "      <td>1</td>\n",
       "      <td>1993</td>\n",
       "      <td>4.699073</td>\n",
       "      <td>0</td>\n",
       "      <td>8</td>\n",
       "      <td>1.041741e+06</td>\n",
       "    </tr>\n",
       "    <tr>\n",
       "      <th>...</th>\n",
       "      <td>...</td>\n",
       "      <td>...</td>\n",
       "      <td>...</td>\n",
       "      <td>...</td>\n",
       "      <td>...</td>\n",
       "      <td>...</td>\n",
       "      <td>...</td>\n",
       "      <td>...</td>\n",
       "    </tr>\n",
       "    <tr>\n",
       "      <th>995</th>\n",
       "      <td>3261</td>\n",
       "      <td>4</td>\n",
       "      <td>1</td>\n",
       "      <td>1978</td>\n",
       "      <td>2.165110</td>\n",
       "      <td>2</td>\n",
       "      <td>10</td>\n",
       "      <td>7.014940e+05</td>\n",
       "    </tr>\n",
       "    <tr>\n",
       "      <th>996</th>\n",
       "      <td>3179</td>\n",
       "      <td>1</td>\n",
       "      <td>2</td>\n",
       "      <td>1999</td>\n",
       "      <td>2.977123</td>\n",
       "      <td>1</td>\n",
       "      <td>10</td>\n",
       "      <td>6.837232e+05</td>\n",
       "    </tr>\n",
       "    <tr>\n",
       "      <th>997</th>\n",
       "      <td>2606</td>\n",
       "      <td>4</td>\n",
       "      <td>2</td>\n",
       "      <td>1962</td>\n",
       "      <td>4.055067</td>\n",
       "      <td>0</td>\n",
       "      <td>2</td>\n",
       "      <td>5.720240e+05</td>\n",
       "    </tr>\n",
       "    <tr>\n",
       "      <th>998</th>\n",
       "      <td>4723</td>\n",
       "      <td>5</td>\n",
       "      <td>2</td>\n",
       "      <td>1950</td>\n",
       "      <td>1.930921</td>\n",
       "      <td>0</td>\n",
       "      <td>7</td>\n",
       "      <td>9.648653e+05</td>\n",
       "    </tr>\n",
       "    <tr>\n",
       "      <th>999</th>\n",
       "      <td>3268</td>\n",
       "      <td>4</td>\n",
       "      <td>2</td>\n",
       "      <td>1983</td>\n",
       "      <td>3.108790</td>\n",
       "      <td>2</td>\n",
       "      <td>2</td>\n",
       "      <td>7.425993e+05</td>\n",
       "    </tr>\n",
       "  </tbody>\n",
       "</table>\n",
       "<p>1000 rows × 8 columns</p>\n",
       "</div>"
      ],
      "text/plain": [
       "     Square_Footage  Num_Bedrooms  Num_Bathrooms  Year_Built  Lot_Size  \\\n",
       "0              1360             2              1        1981  0.599637   \n",
       "1              4272             3              3        2016  4.753014   \n",
       "2              3592             1              2        2016  3.634823   \n",
       "3               966             1              2        1977  2.730667   \n",
       "4              4926             2              1        1993  4.699073   \n",
       "..              ...           ...            ...         ...       ...   \n",
       "995            3261             4              1        1978  2.165110   \n",
       "996            3179             1              2        1999  2.977123   \n",
       "997            2606             4              2        1962  4.055067   \n",
       "998            4723             5              2        1950  1.930921   \n",
       "999            3268             4              2        1983  3.108790   \n",
       "\n",
       "     Garage_Size  Neighborhood_Quality   House_Price  \n",
       "0              0                     5  2.623829e+05  \n",
       "1              1                     6  9.852609e+05  \n",
       "2              0                     9  7.779774e+05  \n",
       "3              1                     8  2.296989e+05  \n",
       "4              0                     8  1.041741e+06  \n",
       "..           ...                   ...           ...  \n",
       "995            2                    10  7.014940e+05  \n",
       "996            1                    10  6.837232e+05  \n",
       "997            0                     2  5.720240e+05  \n",
       "998            0                     7  9.648653e+05  \n",
       "999            2                     2  7.425993e+05  \n",
       "\n",
       "[1000 rows x 8 columns]"
      ]
     },
     "metadata": {},
     "output_type": "display_data"
    }
   ],
   "source": [
    "display(data)"
   ]
  },
  {
   "cell_type": "code",
   "execution_count": 22,
   "id": "d1226ce9-1f16-49e1-8663-fdaccb316471",
   "metadata": {},
   "outputs": [
    {
     "name": "stdout",
     "output_type": "stream",
     "text": [
      "<class 'pandas.core.frame.DataFrame'>\n",
      "RangeIndex: 1000 entries, 0 to 999\n",
      "Data columns (total 8 columns):\n",
      " #   Column                Non-Null Count  Dtype  \n",
      "---  ------                --------------  -----  \n",
      " 0   Square_Footage        1000 non-null   int64  \n",
      " 1   Num_Bedrooms          1000 non-null   int64  \n",
      " 2   Num_Bathrooms         1000 non-null   int64  \n",
      " 3   Year_Built            1000 non-null   int64  \n",
      " 4   Lot_Size              1000 non-null   float64\n",
      " 5   Garage_Size           1000 non-null   int64  \n",
      " 6   Neighborhood_Quality  1000 non-null   int64  \n",
      " 7   House_Price           1000 non-null   float64\n",
      "dtypes: float64(2), int64(6)\n",
      "memory usage: 62.6 KB\n"
     ]
    }
   ],
   "source": [
    "data.info()"
   ]
  },
  {
   "cell_type": "code",
   "execution_count": 34,
   "id": "e7723fcf-f43a-4fa4-a98e-d3cba291bffb",
   "metadata": {},
   "outputs": [],
   "source": [
    "x = data.drop(['House_Price'],axis=1)\n",
    "y = data['House_Price']"
   ]
  },
  {
   "cell_type": "code",
   "execution_count": 35,
   "id": "7abfaa50-2c45-47b2-a68d-17cdcaa390d0",
   "metadata": {},
   "outputs": [],
   "source": [
    "#分割训练集测试集\n",
    "x_train, x_test, y_train, y_test = train_test_split(x,y,train_size=0.8, random_state=66)"
   ]
  },
  {
   "cell_type": "code",
   "execution_count": 38,
   "id": "4af8eba5-85db-4e47-b5c5-cb66b81fda84",
   "metadata": {},
   "outputs": [],
   "source": [
    "reg = LinearRegression()\n",
    "reg.fit(x_train,y_train)\n",
    "#拟合、预测\n",
    "y_pred = reg.predict(x_test)"
   ]
  },
  {
   "cell_type": "code",
   "execution_count": 40,
   "id": "7a78ec5b-6411-4f2f-83f2-5055cbcbcda4",
   "metadata": {},
   "outputs": [
    {
     "name": "stdout",
     "output_type": "stream",
     "text": [
      "n_features_in_ =  7\n",
      "reg.coef_ =  [  199.79035884 10361.25068417  8099.48259426   995.0183565\n",
      " 14919.707727    5235.60752638    60.84144481]\n",
      "reg.intercept_ =  -2014455.0888629742\n"
     ]
    }
   ],
   "source": [
    "#回归系数\n",
    "print(\"n_features_in_ = \",reg.n_features_in_)                 #特征数量\n",
    "print('reg.coef_ = '  , reg.coef_)                               #系数\n",
    "print('reg.intercept_ = ' , reg.intercept_)"
   ]
  },
  {
   "cell_type": "code",
   "execution_count": 66,
   "id": "2aea09d3-54b0-4705-b01d-4f993956b048",
   "metadata": {},
   "outputs": [
    {
     "name": "stdout",
     "output_type": "stream",
     "text": [
      "train_score = 0.998590\n",
      "test_score = 0.998226\n",
      "mse = 116164104.1\n",
      "mae = 8678.2\n",
      "r2 = 0.998226\n",
      "adj-r2 = 0.998213\n"
     ]
    }
   ],
   "source": [
    "print(\"train_score = %.6f\" %reg.score(x_train,y_train))#回归的score一般默认为r2\n",
    "print(\"test_score = %.6f\" %reg.score(x_test,y_test))#回归的score一般默认为r2\n",
    "print(\"mse = %.1f\" %mean_squared_error(y_test,y_pred))#和统计上的MSE不同，没有自由度修正，这里是除以n\n",
    "print(\"mae = %.1f\" %mean_absolute_error(y_test,y_pred))\n",
    "print(\"r2 = %.6f\" %r2_score(y_test,y_pred))\n",
    "print(\"adj-r2 = %.6f\" %(1-mean_squared_error(y_test,y_pred)*(len(y)-1)/np.var(y_test)/(len(y)-reg.n_features_in_-1)))"
   ]
  },
  {
   "cell_type": "markdown",
   "id": "e06a6d65-fd86-4914-afe3-4418f65062c0",
   "metadata": {},
   "source": [
    "#### 导出"
   ]
  },
  {
   "cell_type": "code",
   "execution_count": 72,
   "id": "504dde47-5cb0-48b3-a2b6-a1a0b5fce326",
   "metadata": {},
   "outputs": [],
   "source": [
    "pred_df = pd.concat([pd.DataFrame(y),pd.DataFrame(reg.predict(x))], axis=1)\n",
    "pred_df.to_excel(r\"C:\\Users\\11389\\Desktop\\yreg.xlsx\")"
   ]
  },
  {
   "cell_type": "code",
   "execution_count": 1,
   "id": "ada29f1d-1c94-4765-ab42-5ac7a5e24d13",
   "metadata": {},
   "outputs": [
    {
     "data": {
      "text/plain": [
       "'C:\\\\Users\\\\11389\\\\文件夹\\\\教材编写'"
      ]
     },
     "execution_count": 1,
     "metadata": {},
     "output_type": "execute_result"
    }
   ],
   "source": [
    "import os\n",
    "os.getcwd()"
   ]
  },
  {
   "cell_type": "code",
   "execution_count": null,
   "id": "2f20c079-2723-479e-8bbe-07e004cebf35",
   "metadata": {},
   "outputs": [],
   "source": []
  }
 ],
 "metadata": {
  "kernelspec": {
   "display_name": "Python 3 (ipykernel)",
   "language": "python",
   "name": "python3"
  },
  "language_info": {
   "codemirror_mode": {
    "name": "ipython",
    "version": 3
   },
   "file_extension": ".py",
   "mimetype": "text/x-python",
   "name": "python",
   "nbconvert_exporter": "python",
   "pygments_lexer": "ipython3",
   "version": "3.12.4"
  }
 },
 "nbformat": 4,
 "nbformat_minor": 5
}

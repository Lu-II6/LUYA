{
 "cells": [
  {
   "cell_type": "code",
   "execution_count": null,
   "id": "c95e74e1",
   "metadata": {},
   "outputs": [],
   "source": [
    "import matplotlib.pyplot as plt\n",
    "import geopandas as gpd\n",
    "import pandas as pd \n",
    "from matplotlib.ticker import FuncFormatter\n",
    "# 合并地图数据和气温数据  \n",
    "data = pd.read_excel(r\"C:\\Users\\丁月甜\\Desktop\\数据可视化\\数据集\\气温\\2020四川省分季度平均气温.xlsx\")\n",
    "# print(data.head())\n",
    "data['quarter'] = (data['month'] - 1) // 3 + 1  \n",
    "quarter_temp= data.groupby(['city', 'quarter'])['temp'].mean().reset_index()  \n",
    "# print(quarter_temp.head())\n",
    "map_data = gpd.read_file(r\"C:\\Users\\丁月甜\\Desktop\\数据可视化\\数据集\\四川省 (1).json\")  \n",
    "map_data = map_data.merge(quarter_temp, left_on='name', right_on='city')  \n",
    "# print(map_data.head())\n",
    "# print(map_data.describe())\n",
    "\n",
    "# 创建图形和子图  \n",
    "fig, axs = plt.subplots(2, 2, figsize=(10, 8)) \n",
    "axs = axs.flatten()  \n",
    "vmin = map_data['temp'].min()  \n",
    "vmax = map_data['temp'].max()   \n",
    "\n",
    "quarters = ['第一季度', '第二季度', '第三季度', '第四季度'] \n",
    "plt.rcParams['font.family'] = 'SimHei'  \n",
    "plt.rcParams['font.sans-serif'] = ['SimHei']  \n",
    "plt.rcParams['axes.unicode_minus'] = False  \n",
    "\n",
    "def format_longitude(x, pos):  \n",
    "    return f'{int(x)}°E'\n",
    "def format_latitude(y, pos):  \n",
    "    return f'{int(y)}°N'\n",
    "\n",
    "for i, quarter in enumerate(range(1, 5)):  \n",
    "    temp_data = map_data[map_data['quarter'] == quarter]  \n",
    "    temp_data.plot(column='temp', ax=axs[i], legend=False,  \n",
    "                   cmap='coolwarm', vmin=vmin, vmax=vmax)  \n",
    "    \n",
    "    axs[i].xaxis.set_major_formatter(FuncFormatter(format_longitude)) \n",
    "    axs[i].yaxis.set_major_formatter(FuncFormatter(format_latitude)) \n",
    "    \n",
    "    for x, y, city in zip(temp_data.geometry.centroid.x,   \n",
    "                           temp_data.geometry.centroid.y,   \n",
    "                           temp_data['city']):  \n",
    "        axs[i].text(x, y, city, fontsize=7, ha='center', color='black')  \n",
    "\n",
    "    axs[i].set_title(f'{quarters[i]}平均气温', fontsize=10)  \n",
    "\n",
    "sm = plt.cm.ScalarMappable(cmap='coolwarm', norm=plt.Normalize(vmin=vmin, vmax=vmax))  \n",
    "sm.set_array([])   \n",
    "cbar_ax = fig.add_axes([0.92, 0.15, 0.02, 0.7]) \n",
    "cbar = fig.colorbar(sm, ax=axs, cax=cbar_ax)  \n",
    "cbar.set_label(\"平均气温(°C)\")\n",
    "\n",
    "plt.tight_layout(rect=[0, 0, 0.9, 1]) \n",
    "plt.show()"
   ]
  }
 ],
 "metadata": {
  "kernelspec": {
   "display_name": "Python 3 (ipykernel)",
   "language": "python",
   "name": "python3"
  },
  "language_info": {
   "codemirror_mode": {
    "name": "ipython",
    "version": 3
   },
   "file_extension": ".py",
   "mimetype": "text/x-python",
   "name": "python",
   "nbconvert_exporter": "python",
   "pygments_lexer": "ipython3",
   "version": "3.9.7"
  }
 },
 "nbformat": 4,
 "nbformat_minor": 5
}

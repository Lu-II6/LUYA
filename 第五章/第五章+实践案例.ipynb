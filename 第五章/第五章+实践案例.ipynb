{
 "cells": [
  {
   "cell_type": "code",
   "execution_count": 1,
   "id": "b49f930a-dac5-4844-b6be-09c11df42821",
   "metadata": {},
   "outputs": [],
   "source": [
    "import pandas as pd\n",
    "import numpy as np\n",
    "import seaborn as sns\n",
    "import matplotlib.pyplot as plt\n",
    "import scipy.stats as stats"
   ]
  },
  {
   "cell_type": "code",
   "execution_count": 3,
   "id": "1291b676-c8e9-4401-82e3-61dcaf1c7f84",
   "metadata": {},
   "outputs": [],
   "source": [
    "train = pd.read_csv(r\"D:\\桌面\\train.csv\")\n",
    "test = pd.read_csv(r\"D:\\桌面\\test.csv\")\n",
    "full = pd.concat([train, test], axis=0, ignore_index=True)"
   ]
  },
  {
   "cell_type": "code",
   "execution_count": 4,
   "id": "1033745c-d2f1-49a7-b285-8a1dd5e4dc7e",
   "metadata": {},
   "outputs": [
    {
     "name": "stdout",
     "output_type": "stream",
     "text": [
      "<class 'pandas.core.frame.DataFrame'>\n",
      "RangeIndex: 1309 entries, 0 to 1308\n",
      "Data columns (total 12 columns):\n",
      " #   Column       Non-Null Count  Dtype  \n",
      "---  ------       --------------  -----  \n",
      " 0   PassengerId  1309 non-null   int64  \n",
      " 1   Survived     891 non-null    float64\n",
      " 2   Pclass       1309 non-null   int64  \n",
      " 3   Name         1309 non-null   object \n",
      " 4   Sex          1309 non-null   object \n",
      " 5   Age          1046 non-null   float64\n",
      " 6   SibSp        1309 non-null   int64  \n",
      " 7   Parch        1309 non-null   int64  \n",
      " 8   Ticket       1309 non-null   object \n",
      " 9   Fare         1308 non-null   float64\n",
      " 10  Cabin        295 non-null    object \n",
      " 11  Embarked     1307 non-null   object \n",
      "dtypes: float64(3), int64(4), object(5)\n",
      "memory usage: 122.8+ KB\n"
     ]
    }
   ],
   "source": [
    "full.info()"
   ]
  },
  {
   "cell_type": "code",
   "execution_count": 5,
   "id": "f2e03e3d-7c14-472e-b077-4b9b99449f34",
   "metadata": {},
   "outputs": [],
   "source": [
    "full['Cabin'] = full['Cabin'].fillna('U')"
   ]
  },
  {
   "cell_type": "code",
   "execution_count": 6,
   "id": "27121627-2f7b-4fa1-a1eb-e8151b042c62",
   "metadata": {},
   "outputs": [
    {
     "data": {
      "text/plain": [
       "Embarked\n",
       "S    46\n",
       "C    42\n",
       "Q     1\n",
       "Name: count, dtype: int64"
      ]
     },
     "execution_count": 6,
     "metadata": {},
     "output_type": "execute_result"
    }
   ],
   "source": [
    "full['Embarked'].value_counts()#查看总体乘客分别在S、C、Q上船的数量\n",
    "full[(full['Survived']==1)&(full['Pclass']==1)&(full['Sex']=='female') ]['Embarked'].value_counts()#加入条件，同类中S、C、Q乘客上船的数量"
   ]
  },
  {
   "cell_type": "code",
   "execution_count": 7,
   "id": "f993d1a8-ae90-4d76-bd3c-b1cb8da95b70",
   "metadata": {},
   "outputs": [],
   "source": [
    "full['Embarked'] = full['Embarked'].fillna('S')#填充S（方法一）\n",
    "full.loc[full['Embarked'].isnull(),'Embarked'] = 'S'#填充S（方法二）"
   ]
  },
  {
   "cell_type": "code",
   "execution_count": 8,
   "id": "1c7e24f8-2167-4861-b35b-6708c1b5406a",
   "metadata": {},
   "outputs": [],
   "source": [
    "temp=full[(full['Pclass']==3)&(full['Embarked']=='S')&(full['SibSp']==0) ]['Fare'].median()\n",
    "full['Fare'] = full['Fare'].fillna(temp)"
   ]
  },
  {
   "cell_type": "code",
   "execution_count": 11,
   "id": "2e0fe5b7-a777-4d7d-8eb4-f2b18161fe47",
   "metadata": {},
   "outputs": [],
   "source": [
    "#同类中位数填充\n",
    "#以Pclassm,Parch,SibSp填充大部分数据：Pclass取[1,3]\n",
    "#Pclass为[1,3]的值\n",
    "for i in range(1, 4):\n",
    "    #取SibSp为[0,3]的值\n",
    "    for j in range(0, 4):\n",
    "        #Parch为[0,2]的值\n",
    "        for s in range(0, 3):\n",
    "                full1 = full.loc[(full['Pclass'] == i) & (full['SibSp'] == j) & (full['Parch'] == s) &(full['Age'].isnull()),'Age']\n",
    "                if len(full1) == 0:1\n",
    "                else:\n",
    "                    large_num = full.loc[(full['Pclass'] == i) & (full['SibSp'] == j) & (full['Parch'] == s) &(full['Age'].notnull()),'Age'].median()                   \n",
    "                    full.loc[(full['Pclass'] == i) & (full['SibSp'] == j) & (full['Parch'] == s) &(full['Age'].isnull()),'Age'] = large_num"
   ]
  },
  {
   "cell_type": "code",
   "execution_count": 15,
   "id": "533dd9a5-396e-4ca0-911e-7331615c8ebf",
   "metadata": {},
   "outputs": [
    {
     "name": "stdout",
     "output_type": "stream",
     "text": [
      "10.5\n"
     ]
    }
   ],
   "source": [
    "#对于Pclass=3，Parch=2,SibSp=8的个体，采用Pclass=3，Parch=2,SibSp=5的中位数进行填补\n",
    "large_age = full.loc[(full['Pclass'] == 3) & (full['SibSp'] == 5) & (full['Parch'] == 2) &(full['Age'].notnull()),'Age'].median()\n",
    "print(large_age)\n",
    "full.loc[(full['Pclass'] == 3) & (full['SibSp'] == 8) & (full['Parch'] == 2) &(full['Age'].isnull()),'Age'] = large_age\n"
   ]
  },
  {
   "cell_type": "code",
   "execution_count": 16,
   "id": "82ee6e52-79e0-44c5-bbb5-1044a2ecbf4c",
   "metadata": {},
   "outputs": [],
   "source": [
    "#观察到ID为1233和1256的乘客是8个孩子的父母，ID为1023的乘客是4个孩子的母亲，再通过观察同船其他乘客的数据，采用经验法对年龄缺失值进行填充\n",
    "full.loc[1233,'Age'] = 45\n",
    "full.loc[1256,'Age'] = 45\n",
    "full.loc[1023,'Age'] = 40"
   ]
  },
  {
   "cell_type": "code",
   "execution_count": 20,
   "id": "cd03e486-54de-4bac-89bc-2944f65188b5",
   "metadata": {},
   "outputs": [
    {
     "name": "stdout",
     "output_type": "stream",
     "text": [
      "Title\n",
      "Mr              757\n",
      "Miss            260\n",
      "Mrs             197\n",
      "Master           61\n",
      "Rev               8\n",
      "Dr                8\n",
      "Col               4\n",
      "Major             2\n",
      "Mlle              2\n",
      "Ms                2\n",
      "Mme               1\n",
      "Don               1\n",
      "Sir               1\n",
      "Lady              1\n",
      "Capt              1\n",
      "the Countess      1\n",
      "Jonkheer          1\n",
      "Dona              1\n",
      "Name: count, dtype: int64\n"
     ]
    }
   ],
   "source": [
    "full['Title']=full['Name'].map(lambda x:x.split(',')[1].split('.')[0].strip())\n",
    "print(full['Title'].value_counts())"
   ]
  },
  {
   "cell_type": "code",
   "execution_count": 21,
   "id": "573bab0a-c55a-4aa0-a94f-312ebaf6b3e8",
   "metadata": {},
   "outputs": [
    {
     "name": "stdout",
     "output_type": "stream",
     "text": [
      "Title\n",
      "Mr         757\n",
      "Miss       262\n",
      "Mrs        200\n",
      "Master      62\n",
      "Officer     23\n",
      "Royalty      5\n",
      "Name: count, dtype: int64\n"
     ]
    },
    {
     "data": {
      "image/png": "[encoded data removed]",
      "text/plain": [
       "<Figure size 640x480 with 1 Axes>"
      ]
     },
     "metadata": {},
     "output_type": "display_data"
    }
   ],
   "source": [
    "TitleDict={}\n",
    "TitleDict['Mr'] = 'Mr'\n",
    "TitleDict['Mlle'] = 'Miss'\n",
    "TitleDict['Miss'] = 'Miss'\n",
    "TitleDict['Master'] = 'Master'\n",
    "TitleDict['Jonkheer'] = 'Master'\n",
    "TitleDict['Ms'] = 'Mrs'\n",
    "TitleDict['Mrs'] = 'Mrs'\n",
    "TitleDict['Mme'] = 'Mrs'\n",
    "TitleDict[\"Don\"] = 'Royalty'\n",
    "TitleDict[\"the Countess\"] = 'Royalty'\n",
    "TitleDict[\"Sir\"] = 'Royalty'\n",
    "TitleDict[\"Lady\"] = 'Royalty'\n",
    "TitleDict[\"Dona\"] = 'Royalty'\n",
    "TitleDict[\"Capt\"] = 'Officer'\n",
    "TitleDict[\"Col\"] = 'Officer'\n",
    "TitleDict[\"Major\"] = 'Officer'\n",
    "TitleDict[\"Dr\"] = 'Officer'\n",
    "TitleDict[\"Rev\"] = 'Officer'\n",
    "full['Title'] = full['Title'].map(TitleDict)\n",
    "print(full['Title'].value_counts())\n",
    "sns.barplot(data=full,x='Title',y='Survived')\n",
    "plt.show()"
   ]
  },
  {
   "cell_type": "code",
   "execution_count": 22,
   "id": "33bc193a-1220-4bc0-8d37-ac95e3e16990",
   "metadata": {},
   "outputs": [],
   "source": [
    "temp = full['Ticket'].value_counts()\n",
    "list_shareticket = temp[temp>1].index\n",
    "list_shareticket = list_shareticket.tolist()\n",
    "full['isTicketShared'] = 0\n",
    "full.loc[full['Ticket'].isin(list_shareticket),'isTicketShared'] = 1"
   ]
  },
  {
   "cell_type": "code",
   "execution_count": 23,
   "id": "5ebb8fb3-bd72-4391-ad48-5dec4cacb873",
   "metadata": {},
   "outputs": [
    {
     "data": {
      "text/html": [
       "<div>\n",
       "<style scoped>\n",
       "    .dataframe tbody tr th:only-of-type {\n",
       "        vertical-align: middle;\n",
       "    }\n",
       "\n",
       "    .dataframe tbody tr th {\n",
       "        vertical-align: top;\n",
       "    }\n",
       "\n",
       "    .dataframe thead th {\n",
       "        text-align: right;\n",
       "    }\n",
       "</style>\n",
       "<table border=\"1\" class=\"dataframe\">\n",
       "  <thead>\n",
       "    <tr style=\"text-align: right;\">\n",
       "      <th></th>\n",
       "      <th>Survived</th>\n",
       "      <th>Pclass</th>\n",
       "      <th>Sex</th>\n",
       "      <th>Age</th>\n",
       "      <th>SibSp</th>\n",
       "      <th>Parch</th>\n",
       "      <th>Fare</th>\n",
       "      <th>Embarked</th>\n",
       "      <th>Title</th>\n",
       "      <th>isTicketShared</th>\n",
       "    </tr>\n",
       "  </thead>\n",
       "  <tbody>\n",
       "    <tr>\n",
       "      <th>0</th>\n",
       "      <td>0.0</td>\n",
       "      <td>3</td>\n",
       "      <td>male</td>\n",
       "      <td>22.0</td>\n",
       "      <td>1</td>\n",
       "      <td>0</td>\n",
       "      <td>7.2500</td>\n",
       "      <td>S</td>\n",
       "      <td>Mr</td>\n",
       "      <td>0</td>\n",
       "    </tr>\n",
       "    <tr>\n",
       "      <th>1</th>\n",
       "      <td>1.0</td>\n",
       "      <td>1</td>\n",
       "      <td>female</td>\n",
       "      <td>38.0</td>\n",
       "      <td>1</td>\n",
       "      <td>0</td>\n",
       "      <td>71.2833</td>\n",
       "      <td>C</td>\n",
       "      <td>Mrs</td>\n",
       "      <td>1</td>\n",
       "    </tr>\n",
       "    <tr>\n",
       "      <th>2</th>\n",
       "      <td>1.0</td>\n",
       "      <td>3</td>\n",
       "      <td>female</td>\n",
       "      <td>26.0</td>\n",
       "      <td>0</td>\n",
       "      <td>0</td>\n",
       "      <td>7.9250</td>\n",
       "      <td>S</td>\n",
       "      <td>Miss</td>\n",
       "      <td>0</td>\n",
       "    </tr>\n",
       "    <tr>\n",
       "      <th>3</th>\n",
       "      <td>1.0</td>\n",
       "      <td>1</td>\n",
       "      <td>female</td>\n",
       "      <td>35.0</td>\n",
       "      <td>1</td>\n",
       "      <td>0</td>\n",
       "      <td>53.1000</td>\n",
       "      <td>S</td>\n",
       "      <td>Mrs</td>\n",
       "      <td>1</td>\n",
       "    </tr>\n",
       "    <tr>\n",
       "      <th>4</th>\n",
       "      <td>0.0</td>\n",
       "      <td>3</td>\n",
       "      <td>male</td>\n",
       "      <td>35.0</td>\n",
       "      <td>0</td>\n",
       "      <td>0</td>\n",
       "      <td>8.0500</td>\n",
       "      <td>S</td>\n",
       "      <td>Mr</td>\n",
       "      <td>0</td>\n",
       "    </tr>\n",
       "    <tr>\n",
       "      <th>...</th>\n",
       "      <td>...</td>\n",
       "      <td>...</td>\n",
       "      <td>...</td>\n",
       "      <td>...</td>\n",
       "      <td>...</td>\n",
       "      <td>...</td>\n",
       "      <td>...</td>\n",
       "      <td>...</td>\n",
       "      <td>...</td>\n",
       "      <td>...</td>\n",
       "    </tr>\n",
       "    <tr>\n",
       "      <th>1304</th>\n",
       "      <td>NaN</td>\n",
       "      <td>3</td>\n",
       "      <td>male</td>\n",
       "      <td>25.0</td>\n",
       "      <td>0</td>\n",
       "      <td>0</td>\n",
       "      <td>8.0500</td>\n",
       "      <td>S</td>\n",
       "      <td>Mr</td>\n",
       "      <td>0</td>\n",
       "    </tr>\n",
       "    <tr>\n",
       "      <th>1305</th>\n",
       "      <td>NaN</td>\n",
       "      <td>1</td>\n",
       "      <td>female</td>\n",
       "      <td>39.0</td>\n",
       "      <td>0</td>\n",
       "      <td>0</td>\n",
       "      <td>108.9000</td>\n",
       "      <td>C</td>\n",
       "      <td>Royalty</td>\n",
       "      <td>1</td>\n",
       "    </tr>\n",
       "    <tr>\n",
       "      <th>1306</th>\n",
       "      <td>NaN</td>\n",
       "      <td>3</td>\n",
       "      <td>male</td>\n",
       "      <td>38.5</td>\n",
       "      <td>0</td>\n",
       "      <td>0</td>\n",
       "      <td>7.2500</td>\n",
       "      <td>S</td>\n",
       "      <td>Mr</td>\n",
       "      <td>0</td>\n",
       "    </tr>\n",
       "    <tr>\n",
       "      <th>1307</th>\n",
       "      <td>NaN</td>\n",
       "      <td>3</td>\n",
       "      <td>male</td>\n",
       "      <td>25.0</td>\n",
       "      <td>0</td>\n",
       "      <td>0</td>\n",
       "      <td>8.0500</td>\n",
       "      <td>S</td>\n",
       "      <td>Mr</td>\n",
       "      <td>0</td>\n",
       "    </tr>\n",
       "    <tr>\n",
       "      <th>1308</th>\n",
       "      <td>NaN</td>\n",
       "      <td>3</td>\n",
       "      <td>male</td>\n",
       "      <td>16.0</td>\n",
       "      <td>1</td>\n",
       "      <td>1</td>\n",
       "      <td>22.3583</td>\n",
       "      <td>C</td>\n",
       "      <td>Master</td>\n",
       "      <td>1</td>\n",
       "    </tr>\n",
       "  </tbody>\n",
       "</table>\n",
       "<p>1309 rows × 10 columns</p>\n",
       "</div>"
      ],
      "text/plain": [
       "      Survived  Pclass     Sex   Age  SibSp  Parch      Fare Embarked  \\\n",
       "0          0.0       3    male  22.0      1      0    7.2500        S   \n",
       "1          1.0       1  female  38.0      1      0   71.2833        C   \n",
       "2          1.0       3  female  26.0      0      0    7.9250        S   \n",
       "3          1.0       1  female  35.0      1      0   53.1000        S   \n",
       "4          0.0       3    male  35.0      0      0    8.0500        S   \n",
       "...        ...     ...     ...   ...    ...    ...       ...      ...   \n",
       "1304       NaN       3    male  25.0      0      0    8.0500        S   \n",
       "1305       NaN       1  female  39.0      0      0  108.9000        C   \n",
       "1306       NaN       3    male  38.5      0      0    7.2500        S   \n",
       "1307       NaN       3    male  25.0      0      0    8.0500        S   \n",
       "1308       NaN       3    male  16.0      1      1   22.3583        C   \n",
       "\n",
       "        Title  isTicketShared  \n",
       "0          Mr               0  \n",
       "1         Mrs               1  \n",
       "2        Miss               0  \n",
       "3         Mrs               1  \n",
       "4          Mr               0  \n",
       "...       ...             ...  \n",
       "1304       Mr               0  \n",
       "1305  Royalty               1  \n",
       "1306       Mr               0  \n",
       "1307       Mr               0  \n",
       "1308   Master               1  \n",
       "\n",
       "[1309 rows x 10 columns]"
      ]
     },
     "execution_count": 23,
     "metadata": {},
     "output_type": "execute_result"
    }
   ],
   "source": [
    "full.drop(['PassengerId','Name','Ticket','Cabin'],axis=1)"
   ]
  },
  {
   "cell_type": "code",
   "execution_count": 24,
   "id": "62c10e43-41c5-4331-bd98-a6a9c2119795",
   "metadata": {},
   "outputs": [],
   "source": [
    "full=pd.concat([full,pd.get_dummies(full['Sex'])],axis=1) \n",
    "full=pd.concat([full,pd.get_dummies(full['Title'])],axis=1) \n",
    "full=pd.concat([full,pd.get_dummies(full['Embarked'])],axis=1) \n",
    "full = full.drop(['Sex','Title','Embarked'],axis=1)"
   ]
  },
  {
   "cell_type": "code",
   "execution_count": 25,
   "id": "04eaab99-e242-4c61-a8dc-6fb4ba024e5f",
   "metadata": {},
   "outputs": [
    {
     "name": "stdout",
     "output_type": "stream",
     "text": [
      "Age的偏度： 0.5254526317046072\n",
      "Fare的偏度： 4.364197807821594\n"
     ]
    }
   ],
   "source": [
    "print('Age的偏度：',stats.skew(full['Age']))\n",
    "print('Fare的偏度：',stats.skew(full['Fare']))"
   ]
  },
  {
   "cell_type": "code",
   "execution_count": 26,
   "id": "f23303c3-279a-426c-9a97-c99793b5d969",
   "metadata": {},
   "outputs": [],
   "source": [
    "full['Fare'] = np.log(full['Fare']+0.0001)"
   ]
  },
  {
   "cell_type": "code",
   "execution_count": 32,
   "id": "ce2e5875-a1f5-4f6d-8507-7323738143cb",
   "metadata": {},
   "outputs": [],
   "source": [
    "x = full.drop(['PassengerId','Survived','Name','Ticket','Cabin'],axis=1)\n",
    "z = full[['PassengerId','Name','Survived','Ticket','Cabin']]\n",
    "x = x.apply(lambda x: (x - np.mean(x)) / (np.std(x)))\n",
    "cleaned_full = pd.concat([z,x],axis=1) \n",
    "cleaned_train = cleaned_full[cleaned_full['Survived'].notnull()]\n",
    "cleaned_test = cleaned_full[cleaned_full['Survived'].isnull()]"
   ]
  },
  {
   "cell_type": "code",
   "execution_count": 33,
   "id": "608158be-dc6d-4594-9b3c-50e572c22ca9",
   "metadata": {},
   "outputs": [],
   "source": [
    "cleaned_train.to_csv(r\"D:\\桌面\\cleaned_train.csv\")\n",
    "cleaned_test.to_csv(r\"D:\\桌面\\cleaned_test.csv\")"
   ]
  },
  {
   "cell_type": "code",
   "execution_count": null,
   "id": "7d9d6dbf-3e44-4ca2-b2b5-7ddbc229035a",
   "metadata": {},
   "outputs": [],
   "source": []
  }
 ],
 "metadata": {
  "kernelspec": {
   "display_name": "Python 3 (ipykernel)",
   "language": "python",
   "name": "python3"
  },
  "language_info": {
   "codemirror_mode": {
    "name": "ipython",
    "version": 3
   },
   "file_extension": ".py",
   "mimetype": "text/x-python",
   "name": "python",
   "nbconvert_exporter": "python",
   "pygments_lexer": "ipython3",
   "version": "3.11.7"
  }
 },
 "nbformat": 4,
 "nbformat_minor": 5
}

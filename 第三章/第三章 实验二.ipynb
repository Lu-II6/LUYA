{
 "cells": [
  {
   "cell_type": "code",
   "execution_count": 1,
   "id": "ca6751cf",
   "metadata": {},
   "outputs": [
    {
     "name": "stdout",
     "output_type": "stream",
     "text": [
      "It's Only the Himalayas\n",
      "star-rating: Two\n",
      "Price: Â£45.17\n",
      "------\n",
      "Full Moon over Noahâs Ark: An Odyssey to Mount Ararat and Beyond\n",
      "star-rating: Four\n",
      "Price: Â£49.43\n",
      "------\n",
      "See America: A Celebration of Our National Parks & Treasured Sites\n",
      "star-rating: Three\n",
      "Price: Â£48.87\n",
      "------\n",
      "Vagabonding: An Uncommon Guide to the Art of Long-Term World Travel\n",
      "star-rating: Two\n",
      "Price: Â£36.94\n",
      "------\n",
      "Under the Tuscan Sun\n",
      "star-rating: Three\n",
      "Price: Â£37.33\n",
      "------\n",
      "A Summer In Europe\n",
      "star-rating: Two\n",
      "Price: Â£44.34\n",
      "------\n",
      "The Great Railway Bazaar\n",
      "star-rating: One\n",
      "Price: Â£30.54\n",
      "------\n",
      "A Year in Provence (Provence #1)\n",
      "star-rating: Four\n",
      "Price: Â£56.88\n",
      "------\n",
      "The Road to Little Dribbling: Adventures of an American in Britain (Notes From a Small Island #2)\n",
      "star-rating: One\n",
      "Price: Â£23.21\n",
      "------\n",
      "Neither Here nor There: Travels in Europe\n",
      "star-rating: Three\n",
      "Price: Â£38.95\n",
      "------\n",
      "1,000 Places to See Before You Die\n",
      "star-rating: Five\n",
      "Price: Â£26.08\n",
      "------\n"
     ]
    }
   ],
   "source": [
    "import requests\n",
    "from bs4 import BeautifulSoup\n",
    "res_bookstore = requests.get('http://books.toscrape.com/catalogue/category/books/travel_2/index.html')\n",
    "bs_bookstore = BeautifulSoup(res_bookstore.text,'html.parser')\n",
    "list_books = bs_bookstore.find_all(class_='product_pod')\n",
    "for tag_books in list_books:\n",
    "    tag_name = tag_books.find('h3').find('a') # 找到a标签需要提取两次\n",
    "    list_star = tag_books.find('p',class_=\"star-rating\")\n",
    "    # 这个p标签的class属性有两种：\"star-rating\"，以及具体的几星比如\"Two\"。我们选择所有书都有的class属性：\"star-rating\"\n",
    "    tag_price = tag_books.find('p',class_=\"price_color\") # 价格比较好找，根据属性提取，或者标签与属性一起都可以\n",
    "    print(tag_name['title']) # 这里用到了tag['属性名']提取属性值\n",
    "    print('star-rating:',list_star['class'][1])\n",
    "    # 同样是用属性名提取属性值\n",
    "    # 用list_star['class']提取出来之后是一个由两个值组成的列表，如：\"['star-rating', 'Two']\"，我们最终要提取的是这个列表的第1个值：\"Two\"。\n",
    "    # 为什么是列表呢？因为这里的class属性有两个值。其实，在这个过程中，我们是使用class属性的第一个值提取出了第二个值。\n",
    "    print('Price:',tag_price.text, end='\\n'+'------'+'\\n') # 打印的时候，我加上了换行，为了让数据更加清晰地分隔开，当然你也可以不加。"
   ]
  },
  {
   "cell_type": "code",
   "execution_count": null,
   "id": "7db47c5a",
   "metadata": {},
   "outputs": [],
   "source": []
  }
 ],
 "metadata": {
  "kernelspec": {
   "display_name": "Python 3 (ipykernel)",
   "language": "python",
   "name": "python3"
  },
  "language_info": {
   "codemirror_mode": {
    "name": "ipython",
    "version": 3
   },
   "file_extension": ".py",
   "mimetype": "text/x-python",
   "name": "python",
   "nbconvert_exporter": "python",
   "pygments_lexer": "ipython3",
   "version": "3.9.12"
  }
 },
 "nbformat": 4,
 "nbformat_minor": 5
}

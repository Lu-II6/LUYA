{
 "cells": [
  {
   "cell_type": "code",
   "execution_count": 1,
   "id": "8e860289",
   "metadata": {},
   "outputs": [
    {
     "name": "stdout",
     "output_type": "stream",
     "text": [
      "[['1\\n\\n', '肖申克的救赎', 'https://movie.douban.com/subject/1292052/'], ['2\\n\\n', '霸王别姬', 'https://movie.douban.com/subject/1291546/'], ['3\\n\\n', '泰坦尼克号', 'https://movie.douban.com/subject/1292722/'], ['4\\n\\n', '阿甘正传', 'https://movie.douban.com/subject/1292720/'], ['5\\n\\n', '千与千寻', 'https://movie.douban.com/subject/1291561/'], ['6\\n\\n', '美丽人生', 'https://movie.douban.com/subject/1292063/'], ['7\\n\\n', '这个杀手不太冷', 'https://movie.douban.com/subject/1295644/'], ['8\\n\\n', '星际穿越', 'https://movie.douban.com/subject/1889243/'], ['9\\n\\n', '盗梦空间', 'https://movie.douban.com/subject/3541415/'], ['10\\n', '楚门的世界', 'https://movie.douban.com/subject/1292064/'], ['11\\n', '辛德勒的名单', 'https://movie.douban.com/subject/1295124/'], ['12\\n', '忠犬八公的故事', 'https://movie.douban.com/subject/3011091/'], ['13\\n', '海上钢琴师', 'https://movie.douban.com/subject/1292001/'], ['14\\n', '三傻大闹宝莱坞', 'https://movie.douban.com/subject/3793023/'], ['15\\n', '疯狂动物城', 'https://movie.douban.com/subject/25662329/'], ['16\\n', '放牛班的春天', 'https://movie.douban.com/subject/1291549/'], ['17\\n', '机器人总动员', 'https://movie.douban.com/subject/2131459/'], ['18\\n', '无间道', 'https://movie.douban.com/subject/1307914/'], ['19\\n', '控方证人', 'https://movie.douban.com/subject/1296141/'], ['20\\n', '大话西游之大圣娶亲', 'https://movie.douban.com/subject/1292213/'], ['21\\n', '熔炉', 'https://movie.douban.com/subject/5912992/'], ['22\\n', '触不可及', 'https://movie.douban.com/subject/6786002/'], ['23\\n', '教父', 'https://movie.douban.com/subject/1291841/'], ['24\\n', '寻梦环游记', 'https://movie.douban.com/subject/20495023/'], ['25\\n', '当幸福来敲门', 'https://movie.douban.com/subject/1849031/']]\n",
      "[['26\\n', '末代皇帝', 'https://movie.douban.com/subject/1293172/'], ['27\\n', '哈利·波特与魔法石', 'https://movie.douban.com/subject/1295038/'], ['28\\n', '龙猫', 'https://movie.douban.com/subject/1291560/'], ['29\\n', '怦然心动', 'https://movie.douban.com/subject/3319755/'], ['30\\n', '活着', 'https://movie.douban.com/subject/1292365/'], ['31\\n', '蝙蝠侠：黑暗骑士', 'https://movie.douban.com/subject/1851857/'], ['32\\n', '指环王3：王者无敌', 'https://movie.douban.com/subject/1291552/'], ['33\\n', '我不是药神', 'https://movie.douban.com/subject/26752088/'], ['34\\n', '乱世佳人', 'https://movie.douban.com/subject/1300267/'], ['35\\n', '飞屋环游记', 'https://movie.douban.com/subject/2129039/'], ['36\\n', '让子弹飞', 'https://movie.douban.com/subject/3742360/'], ['37\\n', '哈尔的移动城堡', 'https://movie.douban.com/subject/1308807/'], ['38\\n', '素媛', 'https://movie.douban.com/subject/21937452/'], ['39\\n', '十二怒汉', 'https://movie.douban.com/subject/1293182/'], ['40\\n', '海蒂和爷爷', 'https://movie.douban.com/subject/25958717/'], ['41\\n', '猫鼠游戏', 'https://movie.douban.com/subject/1305487/'], ['42\\n', '天空之城', 'https://movie.douban.com/subject/1291583/'], ['43\\n', '摔跤吧！爸爸', 'https://movie.douban.com/subject/26387939/'], ['44\\n', '鬼子来了', 'https://movie.douban.com/subject/1291858/'], ['45\\n', '少年派的奇幻漂流', 'https://movie.douban.com/subject/1929463/'], ['46\\n', '钢琴家', 'https://movie.douban.com/subject/1296736/'], ['47\\n', '指环王2：双塔奇兵', 'https://movie.douban.com/subject/1291572/'], ['48\\n', '大话西游之月光宝盒', 'https://movie.douban.com/subject/1299398/'], ['49\\n', '死亡诗社', 'https://movie.douban.com/subject/1291548/'], ['50\\n', '何以为家', 'https://movie.douban.com/subject/30170448/']]\n",
      "[['51\\n', '闻香识女人', 'https://movie.douban.com/subject/1298624/'], ['52\\n', '绿皮书', 'https://movie.douban.com/subject/27060077/'], ['53\\n', '大闹天宫', 'https://movie.douban.com/subject/1418019/'], ['54\\n', '黑客帝国', 'https://movie.douban.com/subject/1291843/'], ['55\\n', '罗马假日', 'https://movie.douban.com/subject/1293839/'], ['56\\n', '指环王1：护戒使者', 'https://movie.douban.com/subject/1291571/'], ['57\\n', '教父2', 'https://movie.douban.com/subject/1299131/'], ['58\\n', '狮子王', 'https://movie.douban.com/subject/1301753/'], ['59\\n', '天堂电影院', 'https://movie.douban.com/subject/1291828/'], ['60\\n', '饮食男女', 'https://movie.douban.com/subject/1291818/'], ['61\\n', '辩护人', 'https://movie.douban.com/subject/21937445/'], ['62\\n', '搏击俱乐部', 'https://movie.douban.com/subject/1292000/'], ['63\\n', '本杰明·巴顿奇事', 'https://movie.douban.com/subject/1485260/'], ['64\\n', '美丽心灵', 'https://movie.douban.com/subject/1306029/'], ['65\\n', '穿条纹睡衣的男孩', 'https://movie.douban.com/subject/3008247/'], ['66\\n', '情书', 'https://movie.douban.com/subject/1292220/'], ['67\\n', '窃听风暴', 'https://movie.douban.com/subject/1900841/'], ['68\\n', '两杆大烟枪', 'https://movie.douban.com/subject/1293350/'], ['69\\n', '哈利·波特与死亡圣器(下)', 'https://movie.douban.com/subject/3011235/'], ['70\\n', '音乐之声', 'https://movie.douban.com/subject/1294408/'], ['71\\n', '西西里的美丽传说', 'https://movie.douban.com/subject/1292402/'], ['72\\n', '阿凡达', 'https://movie.douban.com/subject/1652587/'], ['73\\n', '功夫', 'https://movie.douban.com/subject/1291543/'], ['74\\n', '看不见的客人', 'https://movie.douban.com/subject/26580232/'], ['75\\n', '哈利·波特与阿兹卡班的囚徒', 'https://movie.douban.com/subject/1291544/']]\n",
      "[['76\\n', '拯救大兵瑞恩', 'https://movie.douban.com/subject/1292849/'], ['77\\n', '小鞋子', 'https://movie.douban.com/subject/1303021/'], ['78\\n', '沉默的羔羊', 'https://movie.douban.com/subject/1293544/'], ['79\\n', '飞越疯人院', 'https://movie.douban.com/subject/1292224/'], ['80\\n', '布达佩斯大饭店', 'https://movie.douban.com/subject/11525673/'], ['81\\n', '蝴蝶效应', 'https://movie.douban.com/subject/1292343/'], ['82\\n', '禁闭岛', 'https://movie.douban.com/subject/2334904/'], ['83\\n', '致命魔术', 'https://movie.douban.com/subject/1780330/'], ['84\\n', '心灵捕手', 'https://movie.douban.com/subject/1292656/'], ['85\\n', '低俗小说', 'https://movie.douban.com/subject/1291832/'], ['86\\n', '超脱', 'https://movie.douban.com/subject/5322596/'], ['87\\n', '哈利·波特与密室', 'https://movie.douban.com/subject/1296996/'], ['88\\n', '摩登时代', 'https://movie.douban.com/subject/1294371/'], ['89\\n', '喜剧之王', 'https://movie.douban.com/subject/1302425/'], ['90\\n', '致命ID', 'https://movie.douban.com/subject/1297192/'], ['91\\n', '杀人回忆', 'https://movie.douban.com/subject/1300299/'], ['92\\n', '春光乍泄', 'https://movie.douban.com/subject/1292679/'], ['93\\n', '海豚湾', 'https://movie.douban.com/subject/3442220/'], ['94\\n', '一一', 'https://movie.douban.com/subject/1292434/'], ['95\\n', '美国往事', 'https://movie.douban.com/subject/1292262/'], ['96\\n', '加勒比海盗', 'https://movie.douban.com/subject/1298070/'], ['97\\n', '红辣椒', 'https://movie.douban.com/subject/1865703/'], ['98\\n', '七宗罪', 'https://movie.douban.com/subject/1292223/'], ['99\\n', '唐伯虎点秋香', 'https://movie.douban.com/subject/1306249/'], ['100', '狩猎', 'https://movie.douban.com/subject/6985810/']]\n",
      "[['101', '还有明天', 'https://movie.douban.com/subject/36445098/'], ['102', '甜蜜蜜', 'https://movie.douban.com/subject/1305164/'], ['103', '7号房的礼物', 'https://movie.douban.com/subject/10777687/'], ['104', '蝙蝠侠：黑暗骑士崛起', 'https://movie.douban.com/subject/3395373/'], ['105', '寄生虫', 'https://movie.douban.com/subject/27010768/'], ['106', '天书奇谭', 'https://movie.douban.com/subject/1428581/'], ['107', '超能陆战队', 'https://movie.douban.com/subject/11026735/'], ['108', '被嫌弃的松子的一生', 'https://movie.douban.com/subject/1787291/'], ['109', '爱在黎明破晓前', 'https://movie.douban.com/subject/1296339/'], ['110', '第六感', 'https://movie.douban.com/subject/1297630/'], ['111', '重庆森林', 'https://movie.douban.com/subject/1291999/'], ['112', '爱在日落黄昏时', 'https://movie.douban.com/subject/1291990/'], ['113', '幽灵公主', 'https://movie.douban.com/subject/1297359/'], ['114', '入殓师', 'https://movie.douban.com/subject/2149806/'], ['115', '剪刀手爱德华', 'https://movie.douban.com/subject/1292370/'], ['116', '断背山', 'https://movie.douban.com/subject/1418834/'], ['117', '菊次郎的夏天', 'https://movie.douban.com/subject/1293359/'], ['118', '勇敢的心', 'https://movie.douban.com/subject/1294639/'], ['119', '未麻的部屋', 'https://movie.douban.com/subject/1395091/'], ['120', '哈利·波特与火焰杯', 'https://movie.douban.com/subject/1309055/'], ['121', '借东西的小人阿莉埃蒂', 'https://movie.douban.com/subject/4202302/'], ['122', '茶馆', 'https://movie.douban.com/subject/1461403/'], ['123', '头脑特工队', 'https://movie.douban.com/subject/10533913/'], ['124', '时空恋旅人', 'https://movie.douban.com/subject/10577869/'], ['125', '消失的爱人', 'https://movie.douban.com/subject/21318488/']]\n",
      "[['126', '倩女幽魂', 'https://movie.douban.com/subject/1297447/'], ['127', '无人知晓', 'https://movie.douban.com/subject/1292337/'], ['128', '阳光灿烂的日子', 'https://movie.douban.com/subject/1291875/'], ['129', '完美的世界', 'https://movie.douban.com/subject/1300992/'], ['130', '天使爱美丽', 'https://movie.douban.com/subject/1292215/'], ['131', '小森林 夏秋篇', 'https://movie.douban.com/subject/25814705/'], ['132', '花样年华', 'https://movie.douban.com/subject/1291557/'], ['133', '驯龙高手', 'https://movie.douban.com/subject/2353023/'], ['134', '新世界', 'https://movie.douban.com/subject/10437779/'], ['135', '傲慢与偏见', 'https://movie.douban.com/subject/1418200/'], ['136', '侧耳倾听', 'https://movie.douban.com/subject/1297052/'], ['137', '一个叫欧维的男人决定去死', 'https://movie.douban.com/subject/26628357/'], ['138', '请以你的名字呼唤我', 'https://movie.douban.com/subject/26799731/'], ['139', '怪兽电力公司', 'https://movie.douban.com/subject/1291579/'], ['140', '玩具总动员3', 'https://movie.douban.com/subject/1858711/'], ['141', '教父3', 'https://movie.douban.com/subject/1294240/'], ['142', '幸福终点站', 'https://movie.douban.com/subject/1292274/'], ['143', '色，戒', 'https://movie.douban.com/subject/1828115/'], ['144', '哪吒闹海', 'https://movie.douban.com/subject/1307315/'], ['145', '小森林 冬春篇', 'https://movie.douban.com/subject/25814707/'], ['146', '被解救的姜戈', 'https://movie.douban.com/subject/6307447/'], ['147', '九品芝麻官', 'https://movie.douban.com/subject/1297518/'], ['148', '釜山行', 'https://movie.douban.com/subject/25986180/'], ['149', '神偷奶爸', 'https://movie.douban.com/subject/3287562/'], ['150', '萤火之森', 'https://movie.douban.com/subject/5989818/']]\n"
     ]
    },
    {
     "name": "stdout",
     "output_type": "stream",
     "text": [
      "[['151', '告白', 'https://movie.douban.com/subject/4268598/'], ['152', '喜宴', 'https://movie.douban.com/subject/1303037/'], ['153', '头号玩家', 'https://movie.douban.com/subject/4920389/'], ['154', '玛丽和马克思', 'https://movie.douban.com/subject/3072124/'], ['155', '模仿游戏', 'https://movie.douban.com/subject/10463953/'], ['156', '大鱼', 'https://movie.douban.com/subject/1291545/'], ['157', '七武士', 'https://movie.douban.com/subject/1295399/'], ['158', '惊魂记', 'https://movie.douban.com/subject/1293181/'], ['159', '射雕英雄传之东成西就', 'https://movie.douban.com/subject/1316510/'], ['160', '血战钢锯岭', 'https://movie.douban.com/subject/26325320/'], ['161', '我是山姆', 'https://movie.douban.com/subject/1306861/'], ['162', '你的名字。', 'https://movie.douban.com/subject/26683290/'], ['163', '阳光姐妹淘', 'https://movie.douban.com/subject/4917726/'], ['164', '恐怖直播', 'https://movie.douban.com/subject/21360417/'], ['165', '黑客帝国3：矩阵革命', 'https://movie.douban.com/subject/1302467/'], ['166', '背靠背，脸对脸', 'https://movie.douban.com/subject/1307856/'], ['167', '电锯惊魂', 'https://movie.douban.com/subject/1417598/'], ['168', '心灵奇旅', 'https://movie.douban.com/subject/24733428/'], ['169', '三块广告牌', 'https://movie.douban.com/subject/26611804/'], ['170', '小丑', 'https://movie.douban.com/subject/27119724/'], ['171', '达拉斯买家俱乐部', 'https://movie.douban.com/subject/1793929/'], ['172', '谍影重重3', 'https://movie.douban.com/subject/1578507/'], ['173', '疯狂原始人', 'https://movie.douban.com/subject/1907966/'], ['174', '绿里奇迹', 'https://movie.douban.com/subject/1300374/'], ['175', '无间道2', 'https://movie.douban.com/subject/1307106/']]\n",
      "[['176', '爱在午夜降临前', 'https://movie.douban.com/subject/10808442/'], ['177', '海街日记', 'https://movie.douban.com/subject/25895901/'], ['178', '上帝之城', 'https://movie.douban.com/subject/1292208/'], ['179', '英雄本色', 'https://movie.douban.com/subject/1297574/'], ['180', '风之谷', 'https://movie.douban.com/subject/1291585/'], ['181', '疯狂的石头', 'https://movie.douban.com/subject/1862151/'], ['182', '心迷宫', 'https://movie.douban.com/subject/25917973/'], ['183', '雨中曲', 'https://movie.douban.com/subject/1293460/'], ['184', '2001太空漫游', 'https://movie.douban.com/subject/1292226/'], ['185', '纵横四海', 'https://movie.douban.com/subject/1295409/'], ['186', '记忆碎片', 'https://movie.douban.com/subject/1304447/'], ['187', '卢旺达饭店', 'https://movie.douban.com/subject/1291822/'], ['188', '末路狂花', 'https://movie.douban.com/subject/1291992/'], ['189', '无敌破坏王', 'https://movie.douban.com/subject/6534248/'], ['190', '小偷家族', 'https://movie.douban.com/subject/27622447/'], ['191', '高山下的花环', 'https://movie.douban.com/subject/1422283/'], ['192', '冰川时代', 'https://movie.douban.com/subject/1291578/'], ['193', '恐怖游轮', 'https://movie.douban.com/subject/3011051/'], ['194', '东京教父', 'https://movie.douban.com/subject/1310177/'], ['195', '牯岭街少年杀人事件', 'https://movie.douban.com/subject/1292329/'], ['196', '岁月神偷', 'https://movie.douban.com/subject/3792799/'], ['197', '忠犬八公物语', 'https://movie.douban.com/subject/1959195/'], ['198', '魔女宅急便', 'https://movie.douban.com/subject/1307811/'], ['199', '荒蛮故事', 'https://movie.douban.com/subject/24750126/'], ['200', '遗愿清单', 'https://movie.douban.com/subject/1867345/']]\n",
      "[['201', '大佛普拉斯', 'https://movie.douban.com/subject/27059130/'], ['202', '贫民窟的百万富翁', 'https://movie.douban.com/subject/2209573/'], ['203', '源代码', 'https://movie.douban.com/subject/3075287/'], ['204', '东邪西毒', 'https://movie.douban.com/subject/1292328/'], ['205', '你看起来好像很好吃', 'https://movie.douban.com/subject/4848115/'], ['206', '疯狂的麦克斯4：狂暴之路', 'https://movie.douban.com/subject/3592854/'], ['207', '芙蓉镇', 'https://movie.douban.com/subject/1297880/'], ['208', '可可西里', 'https://movie.douban.com/subject/1308857/'], ['209', '爆裂鼓手', 'https://movie.douban.com/subject/25773932/'], ['210', '城市之光', 'https://movie.douban.com/subject/1293908/'], ['211', '波西米亚狂想曲', 'https://movie.douban.com/subject/5300054/'], ['212', '花束般的恋爱', 'https://movie.douban.com/subject/34874432/'], ['213', '黑天鹅', 'https://movie.douban.com/subject/1978709/'], ['214', '爱乐之城', 'https://movie.douban.com/subject/25934014/'], ['215', '青蛇', 'https://movie.douban.com/subject/1303394/'], ['216', '白日梦想家', 'https://movie.douban.com/subject/2133323/'], ['217', '哈利·波特与死亡圣器(上)', 'https://movie.douban.com/subject/2051007/'], ['218', '终结者2：审判日', 'https://movie.douban.com/subject/1291844/'], ['219', '初恋这件小事', 'https://movie.douban.com/subject/4739952/'], ['220', '雨人', 'https://movie.douban.com/subject/1291870/'], ['221', '无耻混蛋', 'https://movie.douban.com/subject/1438652/'], ['222', '新龙门客栈', 'https://movie.douban.com/subject/1292287/'], ['223', '人工智能', 'https://movie.douban.com/subject/1302827/'], ['224', '虎口脱险', 'https://movie.douban.com/subject/1296909/'], ['225', '真爱至上', 'https://movie.douban.com/subject/1292401/']]\n",
      "[['226', '崖上的波妞', 'https://movie.douban.com/subject/1959877/'], ['227', '恋恋笔记本', 'https://movie.douban.com/subject/1309163/'], ['228', '千钧一发', 'https://movie.douban.com/subject/1300117/'], ['229', '罗生门', 'https://movie.douban.com/subject/1291879/'], ['230', '大红灯笼高高挂', 'https://movie.douban.com/subject/1293323/'], ['231', '彗星来的那一夜', 'https://movie.douban.com/subject/25807345/'], ['232', '哈利·波特与凤凰社', 'https://movie.douban.com/subject/1457217/'], ['233', '海边的曼彻斯特', 'https://movie.douban.com/subject/25980443/'], ['234', '机器人之梦', 'https://movie.douban.com/subject/35426925/'], ['235', '火星救援', 'https://movie.douban.com/subject/25864085/'], ['236', '黑客帝国2：重装上阵', 'https://movie.douban.com/subject/1304141/'], ['237', '萤火虫之墓', 'https://movie.douban.com/subject/1293318/'], ['238', '奇迹男孩', 'https://movie.douban.com/subject/26787574/'], ['239', '战争之王', 'https://movie.douban.com/subject/1419936/'], ['240', '千年女优', 'https://movie.douban.com/subject/1307394/'], ['241', '步履不停', 'https://movie.douban.com/subject/2222996/'], ['242', '血钻', 'https://movie.douban.com/subject/1428175/'], ['243', '谍影重重2', 'https://movie.douban.com/subject/1308767/'], ['244', '蜘蛛侠：平行宇宙', 'https://movie.douban.com/subject/26374197/'], ['245', '魂断蓝桥', 'https://movie.douban.com/subject/1293964/'], ['246', '房间', 'https://movie.douban.com/subject/25724855/'], ['247', '冰雪奇缘', 'https://movie.douban.com/subject/4202982/'], ['248', '隐藏人物', 'https://movie.douban.com/subject/26615208/'], ['249', '谍影重重', 'https://movie.douban.com/subject/1304102/'], ['250', '弱点', 'https://movie.douban.com/subject/3552028/']]\n"
     ]
    }
   ],
   "source": [
    "import requests\n",
    "# 引用requests模块\n",
    "from bs4 import BeautifulSoup\n",
    "\n",
    "# 为躲避反爬机制，伪装成浏览器的请求头\n",
    "headers = {'User-Agent': 'Mozilla/5.0 (Windows NT 10.0; WOW64)AppleWebKit/537.36 (KHTML, like Gecko) Chrome/71.0.3578.98 Safari/537.36'}\n",
    "\n",
    "for x in range(10):\n",
    "    url = 'https://movie.douban.com/top250?start=' + str(x*25) + '&filter='\n",
    "    res = requests.get(url, headers=headers)\n",
    "    bs = BeautifulSoup(res.text, 'html.parser')\n",
    "    tag_num = bs.find_all('div', class_=\"item\")\n",
    "    # 查找包含序号，电影名，链接的<div>标签\n",
    "    tag_comment = bs.find_all('div', class_='star')\n",
    "    # 查找包含评分的<div>标签\n",
    "    tag_word = bs.find_all('span', class_='inq')\n",
    "    # 查找推荐语\n",
    "\n",
    "    list_all = []\n",
    "    for x in range(len(tag_num)):\n",
    "        if tag_num[x].text[2:5] == '' or tag_num[x].text[2:5] =='' or x >= len(tag_word):\n",
    "        # 此处引号内，填写没有推荐语的电影序号\n",
    "            list_movie = [tag_num[x].text[2:5], tag_num[x].find('img')['alt'], tag_num[x].find('a')['href'] ]\n",
    "        else:\n",
    "            list_movie = [tag_num[x].text[2:5], tag_num[x].find('img')['alt'],  tag_word[x].text, tag_num[x].find('a')['href']]\n",
    "        list_all.append(list_movie)\n",
    "    print(list_all)"
   ]
  },
  {
   "cell_type": "code",
   "execution_count": null,
   "id": "f99f2b0c",
   "metadata": {},
   "outputs": [],
   "source": []
  }
 ],
 "metadata": {
  "kernelspec": {
   "display_name": "Python 3 (ipykernel)",
   "language": "python",
   "name": "python3"
  },
  "language_info": {
   "codemirror_mode": {
    "name": "ipython",
    "version": 3
   },
   "file_extension": ".py",
   "mimetype": "text/x-python",
   "name": "python",
   "nbconvert_exporter": "python",
   "pygments_lexer": "ipython3",
   "version": "3.9.12"
  }
 },
 "nbformat": 4,
 "nbformat_minor": 5
}

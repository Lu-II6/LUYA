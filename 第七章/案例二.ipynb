{
 "cells": [
  {
   "cell_type": "code",
   "execution_count": 4,
   "id": "b8cd62a6-c4eb-4e25-9dce-2579e2c8835e",
   "metadata": {},
   "outputs": [
    {
     "ename": "ModuleNotFoundError",
     "evalue": "No module named 'pyfpgrowth'",
     "output_type": "error",
     "traceback": [
      "\u001b[1;31m---------------------------------------------------------------------------\u001b[0m",
      "\u001b[1;31mModuleNotFoundError\u001b[0m                       Traceback (most recent call last)",
      "Cell \u001b[1;32mIn[4], line 6\u001b[0m\n\u001b[0;32m      4\u001b[0m \u001b[38;5;28;01mfrom\u001b[39;00m \u001b[38;5;21;01mmlxtend\u001b[39;00m\u001b[38;5;21;01m.\u001b[39;00m\u001b[38;5;21;01mpreprocessing\u001b[39;00m \u001b[38;5;28;01mimport\u001b[39;00m TransactionEncoder\n\u001b[0;32m      5\u001b[0m \u001b[38;5;28;01mfrom\u001b[39;00m \u001b[38;5;21;01mmlxtend\u001b[39;00m\u001b[38;5;21;01m.\u001b[39;00m\u001b[38;5;21;01mfrequent_patterns\u001b[39;00m \u001b[38;5;28;01mimport\u001b[39;00m fpgrowth\n\u001b[1;32m----> 6\u001b[0m \u001b[38;5;28;01mimport\u001b[39;00m \u001b[38;5;21;01mpyfpgrowth\u001b[39;00m\n",
      "\u001b[1;31mModuleNotFoundError\u001b[0m: No module named 'pyfpgrowth'"
     ]
    }
   ],
   "source": [
    "import pandas as pd\n",
    "import numpy as np \n",
    "import mlxtend\n",
    "from mlxtend.preprocessing import TransactionEncoder\n",
    "from mlxtend.frequent_patterns import fpgrowth\n",
    "import pyfpgrowth"
   ]
  },
  {
   "cell_type": "code",
   "execution_count": 5,
   "id": "77c42835-1848-4158-9e2c-f0583d7b1582",
   "metadata": {},
   "outputs": [
    {
     "data": {
      "text/plain": [
       "[['I1', 'I2', 'I5'],\n",
       " ['I2', 'I4'],\n",
       " ['I2', 'I3'],\n",
       " ['I1', 'I2', 'I4'],\n",
       " ['I1', 'I3'],\n",
       " ['I2', 'I3'],\n",
       " ['I1', 'I3'],\n",
       " ['I1', 'I2', 'I3', 'I5'],\n",
       " ['I1', 'I2', 'I3']]"
      ]
     },
     "execution_count": 5,
     "metadata": {},
     "output_type": "execute_result"
    }
   ],
   "source": [
    "transaction = [['I1','I2','I5'],\n",
    "               ['I2','I4'],\n",
    "               ['I2','I3'],\n",
    "               ['I1','I2','I4'],\n",
    "               ['I1','I3'],\n",
    "               ['I2','I3'],\n",
    "               ['I1','I3'],\n",
    "               ['I1','I2','I3','I5'],\n",
    "               ['I1','I2','I3']]\n",
    "transaction"
   ]
  },
  {
   "cell_type": "code",
   "execution_count": 6,
   "id": "dcc0ec3b-0b1a-41f6-98a9-207cb51f9f93",
   "metadata": {},
   "outputs": [],
   "source": [
    "te = TransactionEncoder()\n",
    "dataset_te = te.fit(transaction).transform(transaction)"
   ]
  },
  {
   "cell_type": "code",
   "execution_count": 2,
   "id": "0aab1b30-2dff-4bc8-b3cc-07bad2e47520",
   "metadata": {},
   "outputs": [
    {
     "ename": "NameError",
     "evalue": "name 'pyfpgrowth' is not defined",
     "output_type": "error",
     "traceback": [
      "\u001b[1;31m---------------------------------------------------------------------------\u001b[0m",
      "\u001b[1;31mNameError\u001b[0m                                 Traceback (most recent call last)",
      "Cell \u001b[1;32mIn[2], line 1\u001b[0m\n\u001b[1;32m----> 1\u001b[0m patterns \u001b[38;5;241m=\u001b[39m \u001b[43mpyfpgrowth\u001b[49m\u001b[38;5;241m.\u001b[39mfind_frequent_patterns(transaction,\u001b[38;5;241m2\u001b[39m)\n\u001b[0;32m      2\u001b[0m patterns\n",
      "\u001b[1;31mNameError\u001b[0m: name 'pyfpgrowth' is not defined"
     ]
    }
   ],
   "source": [
    "patterns = pyfpgrowth.find_frequent_patterns(transaction,2)\n",
    "patterns"
   ]
  },
  {
   "cell_type": "code",
   "execution_count": 3,
   "id": "15a6fe0c-1b73-4589-bf03-3a72cbd2ad6b",
   "metadata": {},
   "outputs": [
    {
     "ename": "NameError",
     "evalue": "name 'pyfpgrowth' is not defined",
     "output_type": "error",
     "traceback": [
      "\u001b[1;31m---------------------------------------------------------------------------\u001b[0m",
      "\u001b[1;31mNameError\u001b[0m                                 Traceback (most recent call last)",
      "Cell \u001b[1;32mIn[3], line 1\u001b[0m\n\u001b[1;32m----> 1\u001b[0m rules \u001b[38;5;241m=\u001b[39m \u001b[43mpyfpgrowth\u001b[49m\u001b[38;5;241m.\u001b[39mgenerate_association_rules(patterns,\u001b[38;5;241m0.7\u001b[39m)\n\u001b[0;32m      2\u001b[0m rules\n",
      "\u001b[1;31mNameError\u001b[0m: name 'pyfpgrowth' is not defined"
     ]
    }
   ],
   "source": [
    "rules = pyfpgrowth.generate_association_rules(patterns,0.7)\n",
    "rules"
   ]
  },
  {
   "cell_type": "code",
   "execution_count": null,
   "id": "f84dadf5-f5ec-48fd-a493-32a73beac6d7",
   "metadata": {},
   "outputs": [],
   "source": []
  }
 ],
 "metadata": {
  "kernelspec": {
   "display_name": "Python 3 (ipykernel)",
   "language": "python",
   "name": "python3"
  },
  "language_info": {
   "codemirror_mode": {
    "name": "ipython",
    "version": 3
   },
   "file_extension": ".py",
   "mimetype": "text/x-python",
   "name": "python",
   "nbconvert_exporter": "python",
   "pygments_lexer": "ipython3",
   "version": "3.11.9"
  }
 },
 "nbformat": 4,
 "nbformat_minor": 5
}
